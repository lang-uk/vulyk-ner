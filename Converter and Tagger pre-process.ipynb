{
 "cells": [
  {
   "cell_type": "code",
   "execution_count": 1,
   "id": "c108f5ed",
   "metadata": {
    "ExecuteTime": {
     "end_time": "2022-01-23T14:50:48.721092Z",
     "start_time": "2022-01-23T14:50:47.145428Z"
    }
   },
   "outputs": [],
   "source": [
    "import spacy\n"
   ]
  },
  {
   "cell_type": "code",
   "execution_count": 4,
   "id": "f69e69a9",
   "metadata": {},
   "outputs": [],
   "source": [
    "nlp = spacy.load(\"/Users/dchaplinsky/Projects/vulyk/ner/model-second-best/\")"
   ]
  },
  {
   "cell_type": "code",
   "execution_count": 5,
   "id": "159725df",
   "metadata": {},
   "outputs": [
    {
     "name": "stderr",
     "output_type": "stream",
     "text": [
      "/Users/user_d/Projects/ner/venv/lib/python3.8/site-packages/torch/autocast_mode.py:141: UserWarning: User provided device_type of 'cuda', but CUDA is not available. Disabling\n",
      "  warnings.warn('User provided device_type of \\'cuda\\', but CUDA is not available. Disabling')\n"
     ]
    },
    {
     "name": "stdout",
     "output_type": "stream",
     "text": [
      "Укртранснафта - 4 - 17 - ORG - Companies, agencies, institutions, etc.\n",
      "Віснику державних закупівель - 145 - 173 - ORG - Companies, agencies, institutions, etc.\n",
      "Нафтопроводи які експлуатуються філіями - 174 - 213 - ORG - Companies, agencies, institutions, etc.\n",
      "Придніпровські магістральні нафтопроводи - 214 - 254 - LOC - Non-GPE locations, mountain ranges, bodies of water\n",
      "Південні магістральні нафтопроводи - 258 - 292 - LOC - Non-GPE locations, mountain ranges, bodies of water\n",
      "ТОВ СК Професіонал Макіївка - 308 - 335 - ORG - Companies, agencies, institutions, etc.\n",
      "Дружба - 392 - 398 - ORG - Companies, agencies, institutions, etc.\n",
      "ЗАТ СК Кремінь - 425 - 439 - ORG - Companies, agencies, institutions, etc.\n",
      "СК Кремінь - 477 - 487 - ORG - Companies, agencies, institutions, etc.\n",
      "Партії регіонів - 534 - 549 - ORG - Companies, agencies, institutions, etc.\n",
      "Правління Укртранснафти - 703 - 726 - ORG - Companies, agencies, institutions, etc.\n",
      "Олександр Лазорко - 734 - 751 - PERS - None\n",
      "Приват - 778 - 784 - ORG - Companies, agencies, institutions, etc.\n",
      "України - 836 - 843 - LOC - Non-GPE locations, mountain ranges, bodies of water\n",
      "Укртранснафти - 868 - 881 - ORG - Companies, agencies, institutions, etc.\n",
      "ПЕК - 908 - 911 - ORG - Companies, agencies, institutions, etc.\n",
      "Игор Кірюшин - 912 - 924 - PERS - None\n",
      "Росукренерго - 959 - 971 - ORG - Companies, agencies, institutions, etc.\n",
      "Кірюшин - 990 - 997 - PERS - None\n",
      "Синьків - 1060 - 1067 - LOC - Non-GPE locations, mountain ranges, bodies of water\n",
      "Тернопільської області - 1068 - 1090 - LOC - Non-GPE locations, mountain ranges, bodies of water\n",
      "Росукренерго - 1130 - 1142 - ORG - Companies, agencies, institutions, etc.\n",
      "Дмитро Фірташ - 1143 - 1156 - PERS - None\n",
      "Фірташ - 1193 - 1199 - PERS - None\n"
     ]
    }
   ],
   "source": [
    "# Write a function to display basic entity info:\n",
    "def show_ents(doc):\n",
    "    if doc.ents:\n",
    "        for ent in doc.ents:\n",
    "            print(ent.text+' - ' +str(ent.start_char) +' - '+ str(ent.end_char) +' - '+ent.label_+ ' - '+str(spacy.explain(ent.label_)))\n",
    "    else:\n",
    "        print('No named entities found.')\n",
    "\n",
    "doc1 = nlp(\"\"\"ВАТ Укртранснафта за результатами тендеру 28 грудня застрахувала магістральні нафтопроводи на загальну суму 27,5 млн грн\n",
    "Про це повідомляється в Віснику державних закупівель\n",
    "Нафтопроводи які експлуатуються філіями Придніпровські магістральні нафтопроводи та Південні магістральні нафтопроводи застраховані у ТОВ СК Професіонал Макіївка на 17,14 млн грн\n",
    "Нафтопроводи які експлуатуються філією Дружба застраховані у донецькому ЗАТ СК Кремінь на 10,35 млн грн\n",
    "Напередодні тендеру СК Кремінь повідомила про нагородження компанії грамотою Партії регіонів за инициативную общественно-политическую деятельность активное участие в местных выборах 2010 года добросовестное выполнение своих уставных обязанностей\n",
    "Правління Укртранснафти очолює Олександр Лазорко відомий як менеджер групи Приват що має інтерес до транспортування нафти територією України\n",
    "У грудні наглядову раду Укртранснафти очолив заступник міністра ПЕК Игор Кірюшин відомий своєю близькістю до групи Росукренерго\n",
    "У липні 2010 року Кірюшин особисто брав участь у урочистостях з нагоди газифікації села Синьків Тернопільської області у якому народився співвласник компанії Росукренерго Дмитро Фірташ\n",
    "Там заступник міністра повідомив що Фірташ особисто виділив 2,7 млн грн на газифікацію села\n",
    "\"\"\")\n",
    "\n",
    "show_ents(doc1)"
   ]
  },
  {
   "cell_type": "code",
   "execution_count": 14,
   "id": "903fd6a1",
   "metadata": {},
   "outputs": [
    {
     "name": "stdout",
     "output_type": "stream",
     "text": [
      "T1\tORG 4 17\tУкртранснафта\n",
      "\n",
      "T2\tORG 145 173\tВіснику державних закупівель\n",
      "\n",
      "T3\tORG 174 213\tНафтопроводи які експлуатуються філіями\n",
      "\n",
      "T4\tLOC 214 254\tПридніпровські магістральні нафтопроводи\n",
      "\n",
      "T5\tLOC 258 292\tПівденні магістральні нафтопроводи\n",
      "\n",
      "T6\tORG 308 335\tТОВ СК Професіонал Макіївка\n",
      "\n",
      "T7\tORG 392 398\tДружба\n",
      "\n",
      "T8\tORG 425 439\tЗАТ СК Кремінь\n",
      "\n",
      "T9\tORG 477 487\tСК Кремінь\n",
      "\n",
      "T10\tORG 534 549\tПартії регіонів\n",
      "\n",
      "T11\tORG 703 726\tПравління Укртранснафти\n",
      "\n",
      "T12\tPERS 734 751\tОлександр Лазорко\n",
      "\n",
      "T13\tORG 778 784\tПриват\n",
      "\n",
      "T14\tLOC 836 843\tУкраїни\n",
      "\n",
      "T15\tORG 868 881\tУкртранснафти\n",
      "\n",
      "T16\tORG 908 911\tПЕК\n",
      "\n",
      "T17\tPERS 912 924\tИгор Кірюшин\n",
      "\n",
      "T18\tORG 959 971\tРосукренерго\n",
      "\n",
      "T19\tPERS 990 997\tКірюшин\n",
      "\n",
      "T20\tLOC 1060 1067\tСиньків\n",
      "\n",
      "T21\tLOC 1068 1090\tТернопільської області\n",
      "\n",
      "T22\tORG 1130 1142\tРосукренерго\n",
      "\n",
      "T23\tPERS 1143 1156\tДмитро Фірташ\n",
      "\n",
      "T24\tPERS 1193 1199\tФірташ\n",
      "\n"
     ]
    }
   ],
   "source": [
    "\"T1\tORG 145 173\tВіснику державних закупівель\"\n",
    "\n",
    "brat_str = \"\"\n",
    "\n",
    "for tok_i, ent in enumerate(doc1.ents):\n",
    "    print(f'T{tok_i + 1}\\t{ent.label_} {ent.start_char} {ent.end_char}\\t{ent.text}\\n')\n",
    "    brat_str += f'T{tok_i + 1}\\t{ent.label_} {ent.start_char} {ent.end_char}\\t{ent.text}\\n'\n"
   ]
  },
  {
   "cell_type": "code",
   "execution_count": 5,
   "id": "b1251414",
   "metadata": {
    "ExecuteTime": {
     "end_time": "2022-01-23T14:52:56.355727Z",
     "start_time": "2022-01-23T14:52:56.352478Z"
    }
   },
   "outputs": [],
   "source": [
    "from spacy import displacy"
   ]
  },
  {
   "cell_type": "code",
   "execution_count": 11,
   "id": "4896fcf9",
   "metadata": {},
   "outputs": [
    {
     "data": {
      "text/html": [
       "<span class=\"tex2jax_ignore\"><div class=\"entities\" style=\"line-height: 2.5; direction: ltr\">ВАТ \n",
       "<mark class=\"entity\" style=\"background: #7aecec; padding: 0.45em 0.6em; margin: 0 0.25em; line-height: 1; border-radius: 0.35em;\">\n",
       "    Укртранснафта\n",
       "    <span style=\"font-size: 0.8em; font-weight: bold; line-height: 1; border-radius: 0.35em; vertical-align: middle; margin-left: 0.5rem\">ORG</span>\n",
       "</mark>\n",
       " за результатами тендеру 28 грудня застрахувала магістральні нафтопроводи на загальну суму 27,5 млн грн</br>Про це повідомляється в \n",
       "<mark class=\"entity\" style=\"background: #7aecec; padding: 0.45em 0.6em; margin: 0 0.25em; line-height: 1; border-radius: 0.35em;\">\n",
       "    Віснику державних закупівель\n",
       "    <span style=\"font-size: 0.8em; font-weight: bold; line-height: 1; border-radius: 0.35em; vertical-align: middle; margin-left: 0.5rem\">ORG</span>\n",
       "</mark>\n",
       "</br>\n",
       "<mark class=\"entity\" style=\"background: #7aecec; padding: 0.45em 0.6em; margin: 0 0.25em; line-height: 1; border-radius: 0.35em;\">\n",
       "    Нафтопроводи які експлуатуються філіями\n",
       "    <span style=\"font-size: 0.8em; font-weight: bold; line-height: 1; border-radius: 0.35em; vertical-align: middle; margin-left: 0.5rem\">ORG</span>\n",
       "</mark>\n",
       " \n",
       "<mark class=\"entity\" style=\"background: #ff9561; padding: 0.45em 0.6em; margin: 0 0.25em; line-height: 1; border-radius: 0.35em;\">\n",
       "    Придніпровські магістральні нафтопроводи\n",
       "    <span style=\"font-size: 0.8em; font-weight: bold; line-height: 1; border-radius: 0.35em; vertical-align: middle; margin-left: 0.5rem\">LOC</span>\n",
       "</mark>\n",
       " та \n",
       "<mark class=\"entity\" style=\"background: #ff9561; padding: 0.45em 0.6em; margin: 0 0.25em; line-height: 1; border-radius: 0.35em;\">\n",
       "    Південні магістральні нафтопроводи\n",
       "    <span style=\"font-size: 0.8em; font-weight: bold; line-height: 1; border-radius: 0.35em; vertical-align: middle; margin-left: 0.5rem\">LOC</span>\n",
       "</mark>\n",
       " застраховані у \n",
       "<mark class=\"entity\" style=\"background: #7aecec; padding: 0.45em 0.6em; margin: 0 0.25em; line-height: 1; border-radius: 0.35em;\">\n",
       "    ТОВ СК Професіонал Макіївка\n",
       "    <span style=\"font-size: 0.8em; font-weight: bold; line-height: 1; border-radius: 0.35em; vertical-align: middle; margin-left: 0.5rem\">ORG</span>\n",
       "</mark>\n",
       " на 17,14 млн грн</br>Нафтопроводи які експлуатуються філією \n",
       "<mark class=\"entity\" style=\"background: #7aecec; padding: 0.45em 0.6em; margin: 0 0.25em; line-height: 1; border-radius: 0.35em;\">\n",
       "    Дружба\n",
       "    <span style=\"font-size: 0.8em; font-weight: bold; line-height: 1; border-radius: 0.35em; vertical-align: middle; margin-left: 0.5rem\">ORG</span>\n",
       "</mark>\n",
       " застраховані у донецькому \n",
       "<mark class=\"entity\" style=\"background: #7aecec; padding: 0.45em 0.6em; margin: 0 0.25em; line-height: 1; border-radius: 0.35em;\">\n",
       "    ЗАТ СК Кремінь\n",
       "    <span style=\"font-size: 0.8em; font-weight: bold; line-height: 1; border-radius: 0.35em; vertical-align: middle; margin-left: 0.5rem\">ORG</span>\n",
       "</mark>\n",
       " на 10,35 млн грн</br>Напередодні тендеру \n",
       "<mark class=\"entity\" style=\"background: #7aecec; padding: 0.45em 0.6em; margin: 0 0.25em; line-height: 1; border-radius: 0.35em;\">\n",
       "    СК Кремінь\n",
       "    <span style=\"font-size: 0.8em; font-weight: bold; line-height: 1; border-radius: 0.35em; vertical-align: middle; margin-left: 0.5rem\">ORG</span>\n",
       "</mark>\n",
       " повідомила про нагородження компанії грамотою \n",
       "<mark class=\"entity\" style=\"background: #7aecec; padding: 0.45em 0.6em; margin: 0 0.25em; line-height: 1; border-radius: 0.35em;\">\n",
       "    Партії регіонів\n",
       "    <span style=\"font-size: 0.8em; font-weight: bold; line-height: 1; border-radius: 0.35em; vertical-align: middle; margin-left: 0.5rem\">ORG</span>\n",
       "</mark>\n",
       " за инициативную общественно-политическую деятельность активное участие в местных выборах 2010 года добросовестное выполнение своих уставных обязанностей</br>\n",
       "<mark class=\"entity\" style=\"background: #7aecec; padding: 0.45em 0.6em; margin: 0 0.25em; line-height: 1; border-radius: 0.35em;\">\n",
       "    Правління Укртранснафти\n",
       "    <span style=\"font-size: 0.8em; font-weight: bold; line-height: 1; border-radius: 0.35em; vertical-align: middle; margin-left: 0.5rem\">ORG</span>\n",
       "</mark>\n",
       " очолює \n",
       "<mark class=\"entity\" style=\"background: #ddd; padding: 0.45em 0.6em; margin: 0 0.25em; line-height: 1; border-radius: 0.35em;\">\n",
       "    Олександр Лазорко\n",
       "    <span style=\"font-size: 0.8em; font-weight: bold; line-height: 1; border-radius: 0.35em; vertical-align: middle; margin-left: 0.5rem\">PERS</span>\n",
       "</mark>\n",
       " відомий як менеджер групи \n",
       "<mark class=\"entity\" style=\"background: #7aecec; padding: 0.45em 0.6em; margin: 0 0.25em; line-height: 1; border-radius: 0.35em;\">\n",
       "    Приват\n",
       "    <span style=\"font-size: 0.8em; font-weight: bold; line-height: 1; border-radius: 0.35em; vertical-align: middle; margin-left: 0.5rem\">ORG</span>\n",
       "</mark>\n",
       " що має інтерес до транспортування нафти територією \n",
       "<mark class=\"entity\" style=\"background: #ff9561; padding: 0.45em 0.6em; margin: 0 0.25em; line-height: 1; border-radius: 0.35em;\">\n",
       "    України\n",
       "    <span style=\"font-size: 0.8em; font-weight: bold; line-height: 1; border-radius: 0.35em; vertical-align: middle; margin-left: 0.5rem\">LOC</span>\n",
       "</mark>\n",
       "</br>У грудні наглядову раду \n",
       "<mark class=\"entity\" style=\"background: #7aecec; padding: 0.45em 0.6em; margin: 0 0.25em; line-height: 1; border-radius: 0.35em;\">\n",
       "    Укртранснафти\n",
       "    <span style=\"font-size: 0.8em; font-weight: bold; line-height: 1; border-radius: 0.35em; vertical-align: middle; margin-left: 0.5rem\">ORG</span>\n",
       "</mark>\n",
       " очолив заступник міністра \n",
       "<mark class=\"entity\" style=\"background: #7aecec; padding: 0.45em 0.6em; margin: 0 0.25em; line-height: 1; border-radius: 0.35em;\">\n",
       "    ПЕК\n",
       "    <span style=\"font-size: 0.8em; font-weight: bold; line-height: 1; border-radius: 0.35em; vertical-align: middle; margin-left: 0.5rem\">ORG</span>\n",
       "</mark>\n",
       " \n",
       "<mark class=\"entity\" style=\"background: #ddd; padding: 0.45em 0.6em; margin: 0 0.25em; line-height: 1; border-radius: 0.35em;\">\n",
       "    Игор Кірюшин\n",
       "    <span style=\"font-size: 0.8em; font-weight: bold; line-height: 1; border-radius: 0.35em; vertical-align: middle; margin-left: 0.5rem\">PERS</span>\n",
       "</mark>\n",
       " відомий своєю близькістю до групи \n",
       "<mark class=\"entity\" style=\"background: #7aecec; padding: 0.45em 0.6em; margin: 0 0.25em; line-height: 1; border-radius: 0.35em;\">\n",
       "    Росукренерго\n",
       "    <span style=\"font-size: 0.8em; font-weight: bold; line-height: 1; border-radius: 0.35em; vertical-align: middle; margin-left: 0.5rem\">ORG</span>\n",
       "</mark>\n",
       "</br>У липні 2010 року \n",
       "<mark class=\"entity\" style=\"background: #ddd; padding: 0.45em 0.6em; margin: 0 0.25em; line-height: 1; border-radius: 0.35em;\">\n",
       "    Кірюшин\n",
       "    <span style=\"font-size: 0.8em; font-weight: bold; line-height: 1; border-radius: 0.35em; vertical-align: middle; margin-left: 0.5rem\">PERS</span>\n",
       "</mark>\n",
       " особисто брав участь у урочистостях з нагоди газифікації села \n",
       "<mark class=\"entity\" style=\"background: #ff9561; padding: 0.45em 0.6em; margin: 0 0.25em; line-height: 1; border-radius: 0.35em;\">\n",
       "    Синьків\n",
       "    <span style=\"font-size: 0.8em; font-weight: bold; line-height: 1; border-radius: 0.35em; vertical-align: middle; margin-left: 0.5rem\">LOC</span>\n",
       "</mark>\n",
       " \n",
       "<mark class=\"entity\" style=\"background: #ff9561; padding: 0.45em 0.6em; margin: 0 0.25em; line-height: 1; border-radius: 0.35em;\">\n",
       "    Тернопільської області\n",
       "    <span style=\"font-size: 0.8em; font-weight: bold; line-height: 1; border-radius: 0.35em; vertical-align: middle; margin-left: 0.5rem\">LOC</span>\n",
       "</mark>\n",
       " у якому народився співвласник компанії \n",
       "<mark class=\"entity\" style=\"background: #7aecec; padding: 0.45em 0.6em; margin: 0 0.25em; line-height: 1; border-radius: 0.35em;\">\n",
       "    Росукренерго\n",
       "    <span style=\"font-size: 0.8em; font-weight: bold; line-height: 1; border-radius: 0.35em; vertical-align: middle; margin-left: 0.5rem\">ORG</span>\n",
       "</mark>\n",
       " \n",
       "<mark class=\"entity\" style=\"background: #ddd; padding: 0.45em 0.6em; margin: 0 0.25em; line-height: 1; border-radius: 0.35em;\">\n",
       "    Дмитро Фірташ\n",
       "    <span style=\"font-size: 0.8em; font-weight: bold; line-height: 1; border-radius: 0.35em; vertical-align: middle; margin-left: 0.5rem\">PERS</span>\n",
       "</mark>\n",
       "</br>Там заступник міністра повідомив що \n",
       "<mark class=\"entity\" style=\"background: #ddd; padding: 0.45em 0.6em; margin: 0 0.25em; line-height: 1; border-radius: 0.35em;\">\n",
       "    Фірташ\n",
       "    <span style=\"font-size: 0.8em; font-weight: bold; line-height: 1; border-radius: 0.35em; vertical-align: middle; margin-left: 0.5rem\">PERS</span>\n",
       "</mark>\n",
       " особисто виділив 2,7 млн грн на газифікацію села</br></div></span>"
      ],
      "text/plain": [
       "<IPython.core.display.HTML object>"
      ]
     },
     "metadata": {},
     "output_type": "display_data"
    }
   ],
   "source": [
    "displacy.render(doc1, style=\"ent\", jupyter=True)"
   ]
  },
  {
   "cell_type": "code",
   "execution_count": 3,
   "id": "8a777a37",
   "metadata": {
    "ExecuteTime": {
     "end_time": "2022-01-23T14:52:28.582239Z",
     "start_time": "2022-01-23T14:52:16.024510Z"
    }
   },
   "outputs": [],
   "source": [
    "nlp = spacy.load(\"/Users/dchaplinsky/Projects/vulyk/ner/roberta-xlm-best/\")"
   ]
  },
  {
   "cell_type": "code",
   "execution_count": 4,
   "id": "e89049ab",
   "metadata": {
    "ExecuteTime": {
     "end_time": "2022-01-23T14:52:49.407129Z",
     "start_time": "2022-01-23T14:52:48.175565Z"
    }
   },
   "outputs": [],
   "source": [
    "doc2 = nlp(\"\"\"ВАТ Укртранснафта за результатами тендеру 28 грудня застрахувала магістральні нафтопроводи на загальну суму 27,5 млн грн\n",
    "Про це повідомляється в Віснику державних закупівель\n",
    "Нафтопроводи які експлуатуються філіями Придніпровські магістральні нафтопроводи та Південні магістральні нафтопроводи застраховані у ТОВ СК Професіонал Макіївка на 17,14 млн грн\n",
    "Нафтопроводи які експлуатуються філією Дружба застраховані у донецькому ЗАТ СК Кремінь на 10,35 млн грн\n",
    "Напередодні тендеру СК Кремінь повідомила про нагородження компанії грамотою Партії регіонів за инициативную общественно-политическую деятельность активное участие в местных выборах 2010 года добросовестное выполнение своих уставных обязанностей\n",
    "Правління Укртранснафти очолює Олександр Лазорко відомий як менеджер групи Приват що має інтерес до транспортування нафти територією України\n",
    "У грудні наглядову раду Укртранснафти очолив заступник міністра ПЕК Игор Кірюшин відомий своєю близькістю до групи Росукренерго\n",
    "У липні 2010 року Кірюшин особисто брав участь у урочистостях з нагоди газифікації села Синьків Тернопільської області у якому народився співвласник компанії Росукренерго Дмитро Фірташ\n",
    "Там заступник міністра повідомив що Фірташ особисто виділив 2,7 млн грн на газифікацію села\n",
    "\"\"\")\n"
   ]
  },
  {
   "cell_type": "code",
   "execution_count": 6,
   "id": "58de9f1e",
   "metadata": {
    "ExecuteTime": {
     "end_time": "2022-01-23T14:53:05.192888Z",
     "start_time": "2022-01-23T14:53:05.171613Z"
    }
   },
   "outputs": [
    {
     "data": {
      "text/html": [
       "<span class=\"tex2jax_ignore\"><div class=\"entities\" style=\"line-height: 2.5; direction: ltr\">ВАТ \n",
       "<mark class=\"entity\" style=\"background: #7aecec; padding: 0.45em 0.6em; margin: 0 0.25em; line-height: 1; border-radius: 0.35em;\">\n",
       "    Укртранснафта\n",
       "    <span style=\"font-size: 0.8em; font-weight: bold; line-height: 1; border-radius: 0.35em; vertical-align: middle; margin-left: 0.5rem\">ORG</span>\n",
       "</mark>\n",
       " за результатами тендеру 28 грудня застрахувала магістральні нафтопроводи на загальну суму 27,5 млн грн</br>Про це повідомляється в \n",
       "<mark class=\"entity\" style=\"background: #ddd; padding: 0.45em 0.6em; margin: 0 0.25em; line-height: 1; border-radius: 0.35em;\">\n",
       "    Віснику державних закупівель\n",
       "    <span style=\"font-size: 0.8em; font-weight: bold; line-height: 1; border-radius: 0.35em; vertical-align: middle; margin-left: 0.5rem\">MISC</span>\n",
       "</mark>\n",
       "</br>Нафтопроводи які експлуатуються філіями \n",
       "<mark class=\"entity\" style=\"background: #ff9561; padding: 0.45em 0.6em; margin: 0 0.25em; line-height: 1; border-radius: 0.35em;\">\n",
       "    Придніпровські магістральні нафтопроводи\n",
       "    <span style=\"font-size: 0.8em; font-weight: bold; line-height: 1; border-radius: 0.35em; vertical-align: middle; margin-left: 0.5rem\">LOC</span>\n",
       "</mark>\n",
       " та \n",
       "<mark class=\"entity\" style=\"background: #ff9561; padding: 0.45em 0.6em; margin: 0 0.25em; line-height: 1; border-radius: 0.35em;\">\n",
       "    Південні магістральні нафтопроводи\n",
       "    <span style=\"font-size: 0.8em; font-weight: bold; line-height: 1; border-radius: 0.35em; vertical-align: middle; margin-left: 0.5rem\">LOC</span>\n",
       "</mark>\n",
       " застраховані у \n",
       "<mark class=\"entity\" style=\"background: #7aecec; padding: 0.45em 0.6em; margin: 0 0.25em; line-height: 1; border-radius: 0.35em;\">\n",
       "    ТОВ СК Професіонал Макіївка\n",
       "    <span style=\"font-size: 0.8em; font-weight: bold; line-height: 1; border-radius: 0.35em; vertical-align: middle; margin-left: 0.5rem\">ORG</span>\n",
       "</mark>\n",
       " на 17,14 млн грн</br>Нафтопроводи які експлуатуються філією \n",
       "<mark class=\"entity\" style=\"background: #7aecec; padding: 0.45em 0.6em; margin: 0 0.25em; line-height: 1; border-radius: 0.35em;\">\n",
       "    Дружба\n",
       "    <span style=\"font-size: 0.8em; font-weight: bold; line-height: 1; border-radius: 0.35em; vertical-align: middle; margin-left: 0.5rem\">ORG</span>\n",
       "</mark>\n",
       " застраховані у донецькому \n",
       "<mark class=\"entity\" style=\"background: #7aecec; padding: 0.45em 0.6em; margin: 0 0.25em; line-height: 1; border-radius: 0.35em;\">\n",
       "    ЗАТ СК Кремінь\n",
       "    <span style=\"font-size: 0.8em; font-weight: bold; line-height: 1; border-radius: 0.35em; vertical-align: middle; margin-left: 0.5rem\">ORG</span>\n",
       "</mark>\n",
       " на 10,35 млн грн</br>Напередодні тендеру \n",
       "<mark class=\"entity\" style=\"background: #7aecec; padding: 0.45em 0.6em; margin: 0 0.25em; line-height: 1; border-radius: 0.35em;\">\n",
       "    СК Кремінь\n",
       "    <span style=\"font-size: 0.8em; font-weight: bold; line-height: 1; border-radius: 0.35em; vertical-align: middle; margin-left: 0.5rem\">ORG</span>\n",
       "</mark>\n",
       " повідомила про нагородження компанії грамотою \n",
       "<mark class=\"entity\" style=\"background: #7aecec; padding: 0.45em 0.6em; margin: 0 0.25em; line-height: 1; border-radius: 0.35em;\">\n",
       "    Партії регіонів\n",
       "    <span style=\"font-size: 0.8em; font-weight: bold; line-height: 1; border-radius: 0.35em; vertical-align: middle; margin-left: 0.5rem\">ORG</span>\n",
       "</mark>\n",
       " за инициативную общественно-политическую деятельность активное участие в местных выборах 2010 года добросовестное выполнение своих уставных обязанностей</br>\n",
       "<mark class=\"entity\" style=\"background: #7aecec; padding: 0.45em 0.6em; margin: 0 0.25em; line-height: 1; border-radius: 0.35em;\">\n",
       "    Правління Укртранснафти\n",
       "    <span style=\"font-size: 0.8em; font-weight: bold; line-height: 1; border-radius: 0.35em; vertical-align: middle; margin-left: 0.5rem\">ORG</span>\n",
       "</mark>\n",
       " очолює \n",
       "<mark class=\"entity\" style=\"background: #ddd; padding: 0.45em 0.6em; margin: 0 0.25em; line-height: 1; border-radius: 0.35em;\">\n",
       "    Олександр Лазорко\n",
       "    <span style=\"font-size: 0.8em; font-weight: bold; line-height: 1; border-radius: 0.35em; vertical-align: middle; margin-left: 0.5rem\">PERS</span>\n",
       "</mark>\n",
       " відомий як менеджер групи \n",
       "<mark class=\"entity\" style=\"background: #7aecec; padding: 0.45em 0.6em; margin: 0 0.25em; line-height: 1; border-radius: 0.35em;\">\n",
       "    Приват\n",
       "    <span style=\"font-size: 0.8em; font-weight: bold; line-height: 1; border-radius: 0.35em; vertical-align: middle; margin-left: 0.5rem\">ORG</span>\n",
       "</mark>\n",
       " що має інтерес до транспортування нафти територією \n",
       "<mark class=\"entity\" style=\"background: #ff9561; padding: 0.45em 0.6em; margin: 0 0.25em; line-height: 1; border-radius: 0.35em;\">\n",
       "    України\n",
       "    <span style=\"font-size: 0.8em; font-weight: bold; line-height: 1; border-radius: 0.35em; vertical-align: middle; margin-left: 0.5rem\">LOC</span>\n",
       "</mark>\n",
       "</br>У грудні наглядову раду \n",
       "<mark class=\"entity\" style=\"background: #7aecec; padding: 0.45em 0.6em; margin: 0 0.25em; line-height: 1; border-radius: 0.35em;\">\n",
       "    Укртранснафти\n",
       "    <span style=\"font-size: 0.8em; font-weight: bold; line-height: 1; border-radius: 0.35em; vertical-align: middle; margin-left: 0.5rem\">ORG</span>\n",
       "</mark>\n",
       " очолив заступник міністра \n",
       "<mark class=\"entity\" style=\"background: #7aecec; padding: 0.45em 0.6em; margin: 0 0.25em; line-height: 1; border-radius: 0.35em;\">\n",
       "    ПЕК\n",
       "    <span style=\"font-size: 0.8em; font-weight: bold; line-height: 1; border-radius: 0.35em; vertical-align: middle; margin-left: 0.5rem\">ORG</span>\n",
       "</mark>\n",
       " \n",
       "<mark class=\"entity\" style=\"background: #ddd; padding: 0.45em 0.6em; margin: 0 0.25em; line-height: 1; border-radius: 0.35em;\">\n",
       "    Игор Кірюшин\n",
       "    <span style=\"font-size: 0.8em; font-weight: bold; line-height: 1; border-radius: 0.35em; vertical-align: middle; margin-left: 0.5rem\">PERS</span>\n",
       "</mark>\n",
       " відомий своєю близькістю до групи \n",
       "<mark class=\"entity\" style=\"background: #7aecec; padding: 0.45em 0.6em; margin: 0 0.25em; line-height: 1; border-radius: 0.35em;\">\n",
       "    Росукренерго\n",
       "    <span style=\"font-size: 0.8em; font-weight: bold; line-height: 1; border-radius: 0.35em; vertical-align: middle; margin-left: 0.5rem\">ORG</span>\n",
       "</mark>\n",
       "</br>У липні 2010 року \n",
       "<mark class=\"entity\" style=\"background: #ddd; padding: 0.45em 0.6em; margin: 0 0.25em; line-height: 1; border-radius: 0.35em;\">\n",
       "    Кірюшин\n",
       "    <span style=\"font-size: 0.8em; font-weight: bold; line-height: 1; border-radius: 0.35em; vertical-align: middle; margin-left: 0.5rem\">PERS</span>\n",
       "</mark>\n",
       " особисто брав участь у урочистостях з нагоди газифікації села \n",
       "<mark class=\"entity\" style=\"background: #ff9561; padding: 0.45em 0.6em; margin: 0 0.25em; line-height: 1; border-radius: 0.35em;\">\n",
       "    Синьків\n",
       "    <span style=\"font-size: 0.8em; font-weight: bold; line-height: 1; border-radius: 0.35em; vertical-align: middle; margin-left: 0.5rem\">LOC</span>\n",
       "</mark>\n",
       " \n",
       "<mark class=\"entity\" style=\"background: #ff9561; padding: 0.45em 0.6em; margin: 0 0.25em; line-height: 1; border-radius: 0.35em;\">\n",
       "    Тернопільської області\n",
       "    <span style=\"font-size: 0.8em; font-weight: bold; line-height: 1; border-radius: 0.35em; vertical-align: middle; margin-left: 0.5rem\">LOC</span>\n",
       "</mark>\n",
       " у якому народився співвласник компанії \n",
       "<mark class=\"entity\" style=\"background: #7aecec; padding: 0.45em 0.6em; margin: 0 0.25em; line-height: 1; border-radius: 0.35em;\">\n",
       "    Росукренерго\n",
       "    <span style=\"font-size: 0.8em; font-weight: bold; line-height: 1; border-radius: 0.35em; vertical-align: middle; margin-left: 0.5rem\">ORG</span>\n",
       "</mark>\n",
       " \n",
       "<mark class=\"entity\" style=\"background: #ddd; padding: 0.45em 0.6em; margin: 0 0.25em; line-height: 1; border-radius: 0.35em;\">\n",
       "    Дмитро Фірташ\n",
       "    <span style=\"font-size: 0.8em; font-weight: bold; line-height: 1; border-radius: 0.35em; vertical-align: middle; margin-left: 0.5rem\">PERS</span>\n",
       "</mark>\n",
       "</br>Там заступник міністра повідомив що \n",
       "<mark class=\"entity\" style=\"background: #ddd; padding: 0.45em 0.6em; margin: 0 0.25em; line-height: 1; border-radius: 0.35em;\">\n",
       "    Фірташ\n",
       "    <span style=\"font-size: 0.8em; font-weight: bold; line-height: 1; border-radius: 0.35em; vertical-align: middle; margin-left: 0.5rem\">PERS</span>\n",
       "</mark>\n",
       " особисто виділив 2,7 млн грн на газифікацію села</br></div></span>"
      ],
      "text/plain": [
       "<IPython.core.display.HTML object>"
      ]
     },
     "metadata": {},
     "output_type": "display_data"
    }
   ],
   "source": [
    "displacy.render(doc2, style=\"ent\", jupyter=True)\n"
   ]
  },
  {
   "cell_type": "code",
   "execution_count": 1,
   "id": "01b85cf2",
   "metadata": {
    "ExecuteTime": {
     "end_time": "2022-02-01T12:40:48.130229Z",
     "start_time": "2022-02-01T12:40:48.058614Z"
    }
   },
   "outputs": [],
   "source": [
    "import json\n",
    "\n",
    "texts = []\n",
    "\n",
    "with open(\"../nashi_groshi_full_for_tagging.json\", \"r\") as fp:\n",
    "    for l in fp:\n",
    "        texts.append(json.loads(l))\n",
    "        "
   ]
  },
  {
   "cell_type": "code",
   "execution_count": 4,
   "id": "39fd3d8b",
   "metadata": {
    "ExecuteTime": {
     "end_time": "2022-02-01T12:41:54.090316Z",
     "start_time": "2022-02-01T12:41:54.085796Z"
    }
   },
   "outputs": [],
   "source": [
    "ids_to_skip = [\"94ff2e028545d3190e31522d7a5d5b07bfc9bce6\", \n",
    "\"f39cdea7f0633e8c068f9cad68cda8f30b24a8e1\", \n",
    "\"e6076cb62c44ad914f41b20cbea84e41d2be9cb9\", \n",
    "\"812b7c95a3f79ea69c6c1936da6d5db4dd07c15f\", \n",
    "\"756a58f082b3e94b4cf7cea23e26a89679b50367\", \n",
    "\"50e8d61fa556b5ff5dbbc3f5c5873fdfb5ee2210\", \n",
    "\"fca92c07d373198fdc3260e444c9a961b2c8073d\", \n",
    "\"de0f91bf2f2f3b4c1712ddbb0d0d53a8d032953c\", \n",
    "\"ad2440dc6f11f05066473d9bb3ea205a549d8af7\", \n",
    "\"0702ca43c641c4439eb9c9ce4105c324f411a0f6\", ]\n"
   ]
  },
  {
   "cell_type": "code",
   "execution_count": 11,
   "id": "b7cf7d79",
   "metadata": {
    "ExecuteTime": {
     "end_time": "2022-02-01T12:49:49.204418Z",
     "start_time": "2022-02-01T12:49:49.201636Z"
    }
   },
   "outputs": [],
   "source": [
    "import executor"
   ]
  },
  {
   "cell_type": "code",
   "execution_count": null,
   "id": "40d3b7c9",
   "metadata": {
    "ExecuteTime": {
     "start_time": "2022-02-01T15:58:01.607Z"
    }
   },
   "outputs": [
    {
     "data": {
      "application/vnd.jupyter.widget-view+json": {
       "model_id": "8225c77a89d04c749699b99544212c8b",
       "version_major": 2,
       "version_minor": 0
      },
      "text/plain": [
       "  0%|          | 0/511 [00:00<?, ?it/s]"
      ]
     },
     "metadata": {},
     "output_type": "display_data"
    }
   ],
   "source": [
    "import os.path\n",
    "from tqdm.notebook import tqdm\n",
    "\n",
    "for t in tqdm(texts):\n",
    "    if t[\"_id\"] in ids_to_skip:\n",
    "        continue\n",
    "    \n",
    "    text = f\"{t['clean'].get('title', '')}\\n{t['clean'].get('text', '')}\".strip()\n",
    "\n",
    "    if not text:\n",
    "        continue\n",
    "        \n",
    "    if os.path.exists(f\"/Users/dchaplinsky/Projects/vulyk/ner/text_sample_for_pavel/{t['_id']}.json\"):\n",
    "        continue\n",
    "\n",
    "    executor.execute(\n",
    "        \"/Users/dchaplinsky/Projects/vulyk/ner/nlp_uk/src/main/groovy/org/nlp_uk/tools/TokenizeText.groovy\",\n",
    "        \"-n\", \"json\",\n",
    "        \"-w\", \"-q\",\n",
    "        \"-i\", \"-\",\n",
    "        \"-o\", f\"/Users/dchaplinsky/Projects/vulyk/ner/text_sample_for_pavel/{t['_id']}.json\",\n",
    "        \n",
    "        input=text   \n",
    "    )\n"
   ]
  },
  {
   "cell_type": "code",
   "execution_count": null,
   "id": "c656c8e1",
   "metadata": {},
   "outputs": [],
   "source": []
  }
 ],
 "metadata": {
  "kernelspec": {
   "display_name": "Python 3 (ipykernel)",
   "language": "python",
   "name": "python3"
  },
  "language_info": {
   "codemirror_mode": {
    "name": "ipython",
    "version": 3
   },
   "file_extension": ".py",
   "mimetype": "text/x-python",
   "name": "python",
   "nbconvert_exporter": "python",
   "pygments_lexer": "ipython3",
   "version": "3.9.8"
  }
 },
 "nbformat": 4,
 "nbformat_minor": 5
}
